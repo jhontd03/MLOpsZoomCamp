{
 "cells": [
  {
   "cell_type": "markdown",
   "id": "592c7069-692a-45b7-84d6-d549d74294b2",
   "metadata": {
    "tags": []
   },
   "source": [
    "# Homework 3\n",
    "\n",
    "The goal of this homework is to train a simple model for predicting the duration of a ride, but use Mage for it.\n",
    "\n",
    "We'll use the same NYC taxi dataset, the Yellow taxi data for 2023."
   ]
  },
  {
   "cell_type": "markdown",
   "id": "b22149c8",
   "metadata": {},
   "source": [
    "# Question 1. Run Mage\n",
    "\n",
    "First, let's run Mage with Docker Compose. Follow the quick start guideline.\n",
    "\n",
    "What's the version of Mage we run?\n",
    "\n",
    "(You can see it in the UI)"
   ]
  },
  {
   "attachments": {
    "cd46d4f9-aa70-4485-9ca3-39ed66e2a6e2.png": {
     "image/png": "[encoded data removed]"
    }
   },
   "cell_type": "markdown",
   "id": "6dc1620b-869b-4cef-968a-517353699d8b",
   "metadata": {},
   "source": [
    "![imagen.png](attachment:cd46d4f9-aa70-4485-9ca3-39ed66e2a6e2.png)"
   ]
  },
  {
   "cell_type": "markdown",
   "id": "cc131230",
   "metadata": {},
   "source": [
    "# Question 2. Creating a project\n",
    "\n",
    "Now let's create a new project. We can call it \"homework_03\", for example.\n",
    "\n",
    "How many lines are in the created metadata.yaml file?"
   ]
  },
  {
   "cell_type": "markdown",
   "id": "af37aae9",
   "metadata": {},
   "source": [
    "* 55\n",
    "* 45\n",
    "* ***55***\n",
    "* 65"
   ]
  },
  {
   "cell_type": "markdown",
   "id": "eceee106",
   "metadata": {},
   "source": [
    "# Question 3. Creating a pipeline\n",
    "\n",
    "Let's create an ingestion code block.\n",
    "\n",
    "In this block, we will read the March 2023 Yellow taxi trips data.\n",
    "\n",
    "How many records did we load?"
   ]
  },
  {
   "cell_type": "markdown",
   "id": "d5dbb6c6-57be-4063-8b16-53f088896caa",
   "metadata": {
    "tags": []
   },
   "source": [
    "\n",
    "* 3,003,766\n",
    "* 3,203,766\n",
    "* ***3,403,766***\n",
    "* 3,603,766\n",
    "\n"
   ]
  },
  {
   "cell_type": "markdown",
   "id": "15d9ce72",
   "metadata": {},
   "source": [
    "# Question 4. Data preparation\n",
    "\n",
    "Let's use the same logic for preparing the data we used previously. We will need to create a transformer code block and put this code there.\n",
    "\n",
    "Let's adjust it and apply to the data we loaded in question 3.\n",
    "\n",
    "What's the size of the result?\n"
   ]
  },
  {
   "cell_type": "markdown",
   "id": "908b5ca8",
   "metadata": {},
   "source": [
    "* 2,903,766\n",
    "* 3,103,766\n",
    "* ***3,316,216***\n",
    "* 3,503,766\n"
   ]
  },
  {
   "cell_type": "markdown",
   "id": "89d0f945",
   "metadata": {},
   "source": [
    "# Question 5. Train a model\n",
    "\n",
    "We will now train a linear regression model using the same code as in homework 1\n",
    "\n",
    "    Fit a dict vectorizer\n",
    "    Train a linear regression with default parameres\n",
    "    Use pick up and drop off locations separately, don't create a combination feature\n",
    "\n",
    "Let's now use it in the pipeline. We will need to create another transformation block, and return both the dict vectorizer and the model\n",
    "\n",
    "What's the intercept of the model?"
   ]
  },
  {
   "cell_type": "markdown",
   "id": "09a794c9",
   "metadata": {},
   "source": [
    "* 21.77\n",
    "* ***24.77***\n",
    "* 27.77\n",
    "* 31.77"
   ]
  },
  {
   "cell_type": "markdown",
   "id": "cef8b2d0",
   "metadata": {},
   "source": [
    "# Question 6. Register the model\n",
    "\n",
    "Find the logged model, and find MLModel file. What's the size of the model? (model_size_bytes field):"
   ]
  },
  {
   "cell_type": "markdown",
   "id": "de705910",
   "metadata": {},
   "source": [
    "* 14,534\n",
    "* 9,534\n",
    "* 4,534\n",
    "* 1,534"
   ]
  }
 ],
 "metadata": {
  "kernelspec": {
   "display_name": "Python 3 (ipykernel)",
   "language": "python",
   "name": "python3"
  },
  "language_info": {
   "codemirror_mode": {
    "name": "ipython",
    "version": 3
   },
   "file_extension": ".py",
   "mimetype": "text/x-python",
   "name": "python",
   "nbconvert_exporter": "python",
   "pygments_lexer": "ipython3",
   "version": "3.9.16"
  }
 },
 "nbformat": 4,
 "nbformat_minor": 5
}
